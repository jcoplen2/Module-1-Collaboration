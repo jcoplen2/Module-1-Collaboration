{
 "cells": [
  {
   "cell_type": "code",
   "execution_count": 13,
   "id": "d058d0b9-62bd-4ec7-b1c5-8e30eb964f8c",
   "metadata": {},
   "outputs": [
    {
     "name": "stdout",
     "output_type": "stream",
     "text": [
      "0\n",
      "0\n",
      "1\n",
      "1\n",
      "2\n",
      "2\n"
     ]
    }
   ],
   "source": [
    "class Solution:\n",
    "    def sort_array(self, arr):\n",
    "        c0 = 0\n",
    "        c1 = 0\n",
    "        c2 = 0\n",
    "\n",
    "        for number in arr:\n",
    "            if number == 0:\n",
    "                c0 += 1\n",
    "            elif number == 1:\n",
    "                c1 += 1\n",
    "            else:\n",
    "                c2 += 1\n",
    "\n",
    "        index = 0\n",
    "\n",
    "        for x in range(c0):\n",
    "            arr[index] = 0\n",
    "            index += 1\n",
    "\n",
    "        for x in range(c1):\n",
    "            arr[index] = 1\n",
    "            index += 1\n",
    "\n",
    "        for x in range(c0):\n",
    "            arr[index] = 2\n",
    "            index += 1\n",
    "\n",
    "arr = [0,1,2,0,1,2]\n",
    "solution = Solution()\n",
    "solution.sort_array(arr)\n",
    "\n",
    "for x in arr:\n",
    "    print(x)"
   ]
  },
  {
   "cell_type": "code",
   "execution_count": 3,
   "id": "811fb161-b431-47ce-94dc-917d53a5ca12",
   "metadata": {},
   "outputs": [
    {
     "name": "stdout",
     "output_type": "stream",
     "text": [
      "3\n"
     ]
    }
   ],
   "source": [
    "class Solution:\n",
    "    def binarysearch(self, arr, k):\n",
    "        low, high = 0,  len(arr) - 1\n",
    "        result = -1 \n",
    "        \n",
    "        while low<=high:\n",
    "            mid = (low + high) // 2\n",
    "            \n",
    "            if arr[mid] == k:\n",
    "                result = mid\n",
    "                high = mid - 1\n",
    "            elif arr[mid] < k:\n",
    "                low = mid + 1\n",
    "            else:\n",
    "                high = mid - 1\n",
    "                \n",
    "        return result\n",
    "        \n",
    "solution = Solution()\n",
    "\n",
    "arr = [1,2,3,4,5]\n",
    "k = 4\n",
    "result = solution.binarysearch(arr, k)\n",
    "print(result)"
   ]
  },
  {
   "cell_type": "code",
   "execution_count": null,
   "id": "20fe71fd-aeeb-41b4-a7c0-d2364cb71b49",
   "metadata": {},
   "outputs": [],
   "source": []
  }
 ],
 "metadata": {
  "kernelspec": {
   "display_name": "Python [conda env:base] *",
   "language": "python",
   "name": "conda-base-py"
  },
  "language_info": {
   "codemirror_mode": {
    "name": "ipython",
    "version": 3
   },
   "file_extension": ".py",
   "mimetype": "text/x-python",
   "name": "python",
   "nbconvert_exporter": "python",
   "pygments_lexer": "ipython3",
   "version": "3.12.7"
  }
 },
 "nbformat": 4,
 "nbformat_minor": 5
}
