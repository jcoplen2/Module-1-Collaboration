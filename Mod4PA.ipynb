{
 "cells": [
  {
   "cell_type": "code",
   "execution_count": 5,
   "id": "b498144b-2526-423d-8469-ef551b85e9af",
   "metadata": {},
   "outputs": [
    {
     "name": "stdout",
     "output_type": "stream",
     "text": [
      "Open 9-5 daily\n"
     ]
    }
   ],
   "source": [
    "import zoo\n",
    "\n",
    "zoo.hours()\n"
   ]
  },
  {
   "cell_type": "code",
   "execution_count": 7,
   "id": "0a20ea7a-89f1-4a0e-8812-a6afb5830f8b",
   "metadata": {},
   "outputs": [
    {
     "name": "stdout",
     "output_type": "stream",
     "text": [
      "Open 9-5 daily\n"
     ]
    }
   ],
   "source": [
    "import zoo as menagerie\n",
    "\n",
    "menagerie.hours()"
   ]
  },
  {
   "cell_type": "code",
   "execution_count": 1,
   "id": "c406248f-9b0d-4e13-9f85-74f2af763d74",
   "metadata": {},
   "outputs": [
    {
     "name": "stdout",
     "output_type": "stream",
     "text": [
      "[{'author': 'J R R Tolkien', 'book': 'The Hobbit'}, {'author': 'Lynne Truss', 'book': 'Eats, Shoots & Leaves'}]\n"
     ]
    }
   ],
   "source": [
    "import csv\n",
    "with open('books.csv', 'rt') as fin:\n",
    "    cin = csv.DictReader(fin)\n",
    "    books = [row for row in cin]\n",
    "\n",
    "print(books)"
   ]
  },
  {
   "cell_type": "code",
   "execution_count": 5,
   "id": "a8fc4632-b722-4466-a74c-d5093631db84",
   "metadata": {},
   "outputs": [],
   "source": [
    "import csv \n",
    "books2 = [\n",
    "    ['title', 'author', 'year'],\n",
    "    ['The Weirdstone of Brisingamen', 'Alan Garner' , 1960],\n",
    "    ['Perdido Street Station', 'China Miéville', 2000],\n",
    "    ['Thud!', 'Terry Pratchett', 2005],\n",
    "    ['The Spellman Files', 'Lisa Lutz', 2007],\n",
    "    ['Small Gods', 'Terry Pratchett' ,1992],\n",
    "    ]\n",
    "with open('books2', 'wt') as fout:\n",
    "    csvout = csv.writer(fout)\n",
    "    csvout.writerows(books2)"
   ]
  },
  {
   "cell_type": "code",
   "execution_count": 7,
   "id": "9afa6f74-5b4c-4a4c-9fe7-3fbbc403fb30",
   "metadata": {},
   "outputs": [],
   "source": [
    "import sqlite3\n",
    "\n",
    "conn = sqlite3.connect('books.db')\n",
    "cursor = conn.cursor()\n",
    "\n",
    "cursor.execute('''CREATE TABLE books (\n",
    "    title VARCHAR(50) PRIMARY KEY,\n",
    "    author VARCHAR(50),\n",
    "    year INTEGER)''')\n",
    "\n",
    "conn.commit()\n"
   ]
  },
  {
   "cell_type": "code",
   "execution_count": 11,
   "id": "1367a291-925e-47e5-bb2a-f8417fa4f29b",
   "metadata": {},
   "outputs": [],
   "source": [
    "import sqlite3\n",
    "import csv\n",
    "\n",
    "conn = sqlite3.connect('books.db')\n",
    "cursor = conn.cursor()\n",
    "\n",
    "with open('books2', 'rt') as fin:\n",
    "    cin = csv.DictReader(fin)\n",
    "\n",
    "    for row in cin:\n",
    "        title = row['title']\n",
    "        author = row['author']\n",
    "        year = row['year']\n",
    "        \n",
    "        cursor.execute('''INSERT INTO books (title, author,year)\n",
    "        VALUES (?,?,?)''', (title, author, year))\n",
    "\n",
    "conn.commit()\n",
    "conn.close()\n",
    "    "
   ]
  },
  {
   "cell_type": "code",
   "execution_count": 23,
   "id": "5f804066-4470-4da2-8cfe-b5de75c61643",
   "metadata": {},
   "outputs": [
    {
     "name": "stdout",
     "output_type": "stream",
     "text": [
      "('Perdido Street Station',)\n",
      "('Small Gods',)\n",
      "('The Spellman Files',)\n",
      "('The Weirdstone of Brisingamen',)\n",
      "('Thud!',)\n"
     ]
    }
   ],
   "source": [
    "import sqlalchemy as sa\n",
    "\n",
    "engine = sa.create_engine('sqlite:///books.db')\n",
    "\n",
    "with engine.connect() as connection:\n",
    "    rows = connection.execute(sa.text('SELECT title FROM books ORDER BY title'))\n",
    "\n",
    "    for row in rows:\n",
    "        print(row)\n",
    "\n",
    "\n"
   ]
  },
  {
   "cell_type": "code",
   "execution_count": null,
   "id": "02bf44d5-c418-48d5-8d87-76fb6d54d128",
   "metadata": {},
   "outputs": [],
   "source": []
  }
 ],
 "metadata": {
  "kernelspec": {
   "display_name": "Python [conda env:base] *",
   "language": "python",
   "name": "conda-base-py"
  },
  "language_info": {
   "codemirror_mode": {
    "name": "ipython",
    "version": 3
   },
   "file_extension": ".py",
   "mimetype": "text/x-python",
   "name": "python",
   "nbconvert_exporter": "python",
   "pygments_lexer": "ipython3",
   "version": "3.12.7"
  }
 },
 "nbformat": 4,
 "nbformat_minor": 5
}
